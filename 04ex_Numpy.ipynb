{
 "cells": [
  {
   "cell_type": "markdown",
   "metadata": {},
   "source": [
    "### Numpy basics"
   ]
  },
  {
   "cell_type": "markdown",
   "metadata": {},
   "source": [
    "1\\. Find the row, column and overall means for the following matrix:\n",
    "\n",
    "```python\n",
    "m = np.arange(12).reshape((3,4))\n",
    "```"
   ]
  },
  {
   "cell_type": "code",
   "execution_count": 7,
   "metadata": {},
   "outputs": [
    {
     "name": "stdout",
     "output_type": "stream",
     "text": [
      "[[ 0  1  2  3]\n",
      " [ 4  5  6  7]\n",
      " [ 8  9 10 11]]\n",
      "1.5\n",
      "4.0\n",
      "5.5\n"
     ]
    }
   ],
   "source": [
    "import numpy as np\n",
    "a = np.arange(12).reshape((3,4))\n",
    "print(a)\n",
    "\n",
    "\n",
    "#Media della prima riga\n",
    "print(np.mean(a[0]))\n",
    "\n",
    "#Media della prima colonna\n",
    "print(np.mean(a[:,0]))\n",
    "\n",
    "#Media generale\n",
    "print(np.mean(a))"
   ]
  },
  {
   "cell_type": "markdown",
   "metadata": {},
   "source": [
    "2\\. Find the outer product of the following two vecotrs\n",
    "\n",
    "```python\n",
    "u = np.array([1,3,5,7])\n",
    "v = np.array([2,4,6,8])\n",
    "```\n",
    "\n",
    "Do this in the following ways:\n",
    "\n",
    "   * Using the function outer in numpy\n",
    "   * Using a nested for loop or list comprehension\n",
    "   * Using numpy broadcasting operatoins\n"
   ]
  },
  {
   "cell_type": "code",
   "execution_count": 20,
   "metadata": {},
   "outputs": [
    {
     "name": "stdout",
     "output_type": "stream",
     "text": [
      "[[ 2  4  6  8]\n",
      " [ 6 12 18 24]\n",
      " [10 20 30 40]\n",
      " [14 28 42 56]]\n",
      "[[ 2.  4.  6.  8.]\n",
      " [ 6. 12. 18. 24.]\n",
      " [10. 20. 30. 40.]\n",
      " [14. 28. 42. 56.]]\n",
      "[[ 2  4  6  8]\n",
      " [ 6 12 18 24]\n",
      " [10 20 30 40]\n",
      " [14 28 42 56]]\n"
     ]
    }
   ],
   "source": [
    "#n.m.b. Outer product è il prodotto diadico, non esterno\n",
    "\n",
    "u = np.array([1,3,5,7])\n",
    "v = np.array([2,4,6,8])\n",
    "\n",
    "#Function outer in numpy\n",
    "p1 = np.outer(u, v)\n",
    "print(p1)\n",
    "\n",
    "#Con cicli\n",
    "m=u.shape[0]\n",
    "n=v.shape[0]\n",
    "p2 = np.empty((m,n))\n",
    "for i in range(m):\n",
    "    for j in range(n):\n",
    "        p2[i, j] = u[i]*v[j]\n",
    "print(p2)\n",
    "\n",
    "#With numpy broadcasting operations\n",
    "p3l=[]\n",
    "for i in u:\n",
    "    p3l.append(v*i)\n",
    "    \n",
    "\n",
    "\n",
    "p3=np.array(p3l)\n",
    "print(p3)\n",
    "\n",
    "\n",
    "\n",
    "\n"
   ]
  },
  {
   "cell_type": "markdown",
   "metadata": {},
   "source": [
    "3\\. Create a 10 by 6 matrix of random uniform numbers. Set all rows with any entry less than 0.1 to be zero\n",
    "\n",
    "Hint: Use the following numpy functions - np.random.random, np.any as well as Boolean indexing and the axis argument."
   ]
  },
  {
   "cell_type": "code",
   "execution_count": 29,
   "metadata": {},
   "outputs": [
    {
     "name": "stdout",
     "output_type": "stream",
     "text": [
      "[[0.46263982 0.26452994 0.20742337 0.11961266 0.96721796 0.6680657 ]\n",
      " [0.28355211 0.16044621 0.23841387 0.44179148 0.85380046 0.82010707]\n",
      " [0.21719907 0.74244042 0.67906423 0.05262519 0.14100309 0.4182403 ]\n",
      " [0.49863113 0.0868841  0.15387299 0.70372837 0.3470344  0.11687249]\n",
      " [0.37231036 0.50986229 0.05461547 0.5829719  0.24735914 0.18796169]\n",
      " [0.09955246 0.20200764 0.76604771 0.30713155 0.07437064 0.45420283]\n",
      " [0.2787423  0.87880426 0.77751535 0.23724145 0.0530756  0.60730222]\n",
      " [0.92730821 0.40338024 0.01766897 0.3559873  0.67035675 0.40358253]\n",
      " [0.10134234 0.33663526 0.58934264 0.82780987 0.61328761 0.04087812]\n",
      " [0.53826294 0.52953293 0.22985427 0.98905067 0.56800329 0.7436605 ]]\n",
      "[[0.46263982 0.26452994 0.20742337 0.11961266 0.96721796 0.6680657 ]\n",
      " [0.28355211 0.16044621 0.23841387 0.44179148 0.85380046 0.82010707]\n",
      " [0.21719907 0.74244042 0.67906423 0.         0.14100309 0.4182403 ]\n",
      " [0.49863113 0.         0.15387299 0.70372837 0.3470344  0.11687249]\n",
      " [0.37231036 0.50986229 0.         0.5829719  0.24735914 0.18796169]\n",
      " [0.         0.20200764 0.76604771 0.30713155 0.         0.45420283]\n",
      " [0.2787423  0.87880426 0.77751535 0.23724145 0.         0.60730222]\n",
      " [0.92730821 0.40338024 0.         0.3559873  0.67035675 0.40358253]\n",
      " [0.10134234 0.33663526 0.58934264 0.82780987 0.61328761 0.        ]\n",
      " [0.53826294 0.52953293 0.22985427 0.98905067 0.56800329 0.7436605 ]]\n",
      "altro caso: \n",
      "\n",
      "[[0.68979809 0.21931044 0.76002419 0.92327067 0.1071637  0.14968959]\n",
      " [0.95361333 0.5609804  0.69024326 0.26852428 0.41010119 0.45685243]\n",
      " [0.30865715 0.20857617 0.64781649 0.19282036 0.96567463 0.94594707]\n",
      " [0.25966511 0.15569788 0.43626867 0.34039054 0.46176179 0.25086555]\n",
      " [0.60111623 0.24161174 0.33287817 0.83527514 0.6104141  0.44713357]\n",
      " [0.90716472 0.02206506 0.8011881  0.83954327 0.00802698 0.83846039]\n",
      " [0.27665717 0.53351581 0.36109783 0.37122071 0.82711365 0.5481544 ]\n",
      " [0.09195745 0.45297862 0.28458447 0.57907388 0.16215994 0.10521752]\n",
      " [0.6719496  0.74293212 0.15015557 0.83844327 0.76879821 0.17396276]\n",
      " [0.22647624 0.36635923 0.69284395 0.43855296 0.77406719 0.56376564]]\n",
      "[[0.68979809 0.21931044 0.76002419 0.92327067 0.1071637  0.14968959]\n",
      " [0.95361333 0.5609804  0.69024326 0.26852428 0.41010119 0.45685243]\n",
      " [0.30865715 0.20857617 0.64781649 0.19282036 0.96567463 0.94594707]\n",
      " [0.25966511 0.15569788 0.43626867 0.34039054 0.46176179 0.25086555]\n",
      " [0.60111623 0.24161174 0.33287817 0.83527514 0.6104141  0.44713357]\n",
      " [0.         0.         0.         0.         0.         0.        ]\n",
      " [0.27665717 0.53351581 0.36109783 0.37122071 0.82711365 0.5481544 ]\n",
      " [0.         0.         0.         0.         0.         0.        ]\n",
      " [0.6719496  0.74293212 0.15015557 0.83844327 0.76879821 0.17396276]\n",
      " [0.22647624 0.36635923 0.69284395 0.43855296 0.77406719 0.56376564]]\n"
     ]
    }
   ],
   "source": [
    "import numpy.random as npr\n",
    "\n",
    "m=npr.rand(10,6)\n",
    "print(m)\n",
    "\n",
    "\n",
    "#Cambia in 0 valori minori di 0.1\n",
    "mask=(m < 0.1)\n",
    "m[mask]=0\n",
    "print(m)\n",
    "\n",
    "#Set to 0 all rows containing entries less than 0.1\n",
    "print(\"altro caso: \\n\")\n",
    "m2=npr.rand(10,6)\n",
    "print(m2)\n",
    "mf=np.any(m2 < 0.1, axis = 1)\n",
    "for i in range(mf.shape[0]):\n",
    "    if mf[i]==True: \n",
    "        m2[i]=0\n",
    "print(m2)\n",
    "\n"
   ]
  },
  {
   "cell_type": "markdown",
   "metadata": {},
   "source": [
    "4\\. Use np.linspace to create an array of 100 numbers between 0 and 2π (includsive).\n",
    "\n",
    "  * Extract every 10th element using slice notation\n",
    "  * Reverse the array using slice notation\n",
    "  * Extract elements where the absolute difference between the sine and cosine functions evaluated at that element is less than 0.1\n",
    "  * Make a plot showing the sin and cos functions and indicate where they are close"
   ]
  },
  {
   "cell_type": "code",
   "execution_count": null,
   "metadata": {},
   "outputs": [],
   "source": []
  },
  {
   "cell_type": "markdown",
   "metadata": {},
   "source": [
    "5\\. Create a matrix that shows the 10 by 10 multiplication table.\n",
    "\n",
    " * Find the trace of the matrix\n",
    " * Extract the anto-diagonal (this should be ```array([10, 18, 24, 28, 30, 30, 28, 24, 18, 10])```)\n",
    " * Extract the diagnoal offset by 1 upwards (this should be ```array([ 2,  6, 12, 20, 30, 42, 56, 72, 90])```)"
   ]
  },
  {
   "cell_type": "markdown",
   "metadata": {},
   "source": [
    "6\\. Use broadcasting to create a grid of distances\n",
    "\n",
    "Route 66 crosses the following cities in the US: Chicago, Springfield, Saint-Louis, Tulsa, Oklahoma City, Amarillo, Santa Fe, Albuquerque, Flagstaff, Los Angeles\n",
    "The corresponding positions in miles are: 0, 198, 303, 736, 871, 1175, 1475, 1544, 1913, 2448\n",
    "\n",
    "  * Construct a 2D grid of distances among each city along Route 66\n",
    "  * Convert that in km (those savages...)"
   ]
  },
  {
   "cell_type": "markdown",
   "metadata": {},
   "source": [
    "7\\. Prime numbers sieve: compute the prime numbers in the 0-N (N=99 to start with) range with a sieve (mask).\n",
    "  * Constract a shape (100,) boolean array, the mask\n",
    "  * Identify the multiples of each number starting from 2 and set accordingly the corresponding mask element\n",
    "  * Apply the mask to obtain an array of ordered prime numbers\n",
    "  * Check the performances (timeit); how does it scale with N?\n",
    "  * Implement the optimization suggested in the [sieve of Eratosthenes](https://en.wikipedia.org/wiki/Sieve_of_Eratosthenes)"
   ]
  },
  {
   "cell_type": "markdown",
   "metadata": {},
   "source": [
    "**N.B. the following exercises are meant to be solved only if you are familiar with the numpy random library. If not you can skip them (postponed for one of the next exercise sessions)**\n"
   ]
  },
  {
   "cell_type": "markdown",
   "metadata": {},
   "source": [
    "8\\. Diffusion using random walk\n",
    "\n",
    "Consider a simple random walk process: at each step in time, a walker jumps right or left (+1 or -1) with equal probability. The goal is to find the typical distance from the origin of a random walker after a given amount of time. \n",
    "To do that, let's simulate many walkers and create a 2D array with each walker as a raw and the actual time evolution as columns\n",
    "\n",
    "  * Take 1000 walkers and let them walk for 200 steps\n",
    "  * Use randint to create a 2D array of size walkers x steps with values -1 or 1\n",
    "  * Build the actual walking distances for each walker (i.e. another 2D array \"summing on each raw\")\n",
    "  * Take the square of that 2D array (elementwise)\n",
    "  * Compute the mean of the squared distances at each step (i.e. the mean along the columns)\n",
    "  * Plot the average distances (sqrt(distance\\*\\*2)) as a function of time (step)\n",
    "  \n",
    "Did you get what you expected?"
   ]
  },
  {
   "cell_type": "markdown",
   "metadata": {},
   "source": [
    "9\\. Analyze a data file \n",
    "  * Download the population of hares, lynxes and carrots at the beginning of the last century.\n",
    "    ```python\n",
    "    ! wget https://www.dropbox.com/s/3vigxoqayo389uc/populations.txt\n",
    "    ```\n",
    "\n",
    "  * Check the content by looking within the file\n",
    "  * Load the data (use an appropriate numpy method) into a 2D array\n",
    "  * Create arrays out of the columns, the arrays being (in order): *year*, *hares*, *lynxes*, *carrots* \n",
    "  * Plot the 3 populations over the years\n",
    "  * Compute the main statistical properties of the dataset (mean, std, correlations, etc.)\n",
    "  * Which species has the highest population each year?\n",
    "\n",
    "Do you feel there is some evident correlation here? [Studies](https://www.enr.gov.nt.ca/en/services/lynx/lynx-snowshoe-hare-cycle) tend to believe so."
   ]
  }
 ],
 "metadata": {
  "kernelspec": {
   "display_name": "Python 3",
   "language": "python",
   "name": "python3"
  },
  "language_info": {
   "codemirror_mode": {
    "name": "ipython",
    "version": 3
   },
   "file_extension": ".py",
   "mimetype": "text/x-python",
   "name": "python",
   "nbconvert_exporter": "python",
   "pygments_lexer": "ipython3",
   "version": "3.8.8"
  }
 },
 "nbformat": 4,
 "nbformat_minor": 2
}
