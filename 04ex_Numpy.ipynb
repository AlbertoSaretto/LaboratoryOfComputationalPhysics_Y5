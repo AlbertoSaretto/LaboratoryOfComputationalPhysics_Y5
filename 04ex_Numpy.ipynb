{
 "cells": [
  {
   "cell_type": "markdown",
   "metadata": {},
   "source": [
    "### Numpy basics"
   ]
  },
  {
   "cell_type": "markdown",
   "metadata": {},
   "source": [
    "1\\. Find the row, column and overall means for the following matrix:\n",
    "\n",
    "```python\n",
    "m = np.arange(12).reshape((3,4))\n",
    "```"
   ]
  },
  {
   "cell_type": "code",
   "execution_count": 7,
   "metadata": {},
   "outputs": [
    {
     "name": "stdout",
     "output_type": "stream",
     "text": [
      "[[ 0  1  2  3]\n",
      " [ 4  5  6  7]\n",
      " [ 8  9 10 11]]\n",
      "1.5\n",
      "4.0\n",
      "5.5\n"
     ]
    }
   ],
   "source": [
    "import numpy as np\n",
    "a = np.arange(12).reshape((3,4))\n",
    "print(a)\n",
    "\n",
    "\n",
    "#Media della prima riga\n",
    "print(np.mean(a[0]))\n",
    "\n",
    "#Media della prima colonna\n",
    "print(np.mean(a[:,0]))\n",
    "\n",
    "#Media generale\n",
    "print(np.mean(a))"
   ]
  },
  {
   "cell_type": "markdown",
   "metadata": {},
   "source": [
    "2\\. Find the outer product of the following two vecotrs\n",
    "\n",
    "```python\n",
    "u = np.array([1,3,5,7])\n",
    "v = np.array([2,4,6,8])\n",
    "```\n",
    "\n",
    "Do this in the following ways:\n",
    "\n",
    "   * Using the function outer in numpy\n",
    "   * Using a nested for loop or list comprehension\n",
    "   * Using numpy broadcasting operatoins\n"
   ]
  },
  {
   "cell_type": "code",
   "execution_count": 20,
   "metadata": {},
   "outputs": [
    {
     "name": "stdout",
     "output_type": "stream",
     "text": [
      "[[ 2  4  6  8]\n",
      " [ 6 12 18 24]\n",
      " [10 20 30 40]\n",
      " [14 28 42 56]]\n",
      "[[ 2.  4.  6.  8.]\n",
      " [ 6. 12. 18. 24.]\n",
      " [10. 20. 30. 40.]\n",
      " [14. 28. 42. 56.]]\n",
      "[[ 2  4  6  8]\n",
      " [ 6 12 18 24]\n",
      " [10 20 30 40]\n",
      " [14 28 42 56]]\n"
     ]
    }
   ],
   "source": [
    "#n.m.b. Outer product è il prodotto diadico, non esterno\n",
    "\n",
    "u = np.array([1,3,5,7])\n",
    "v = np.array([2,4,6,8])\n",
    "\n",
    "#Function outer in numpy\n",
    "p1 = np.outer(u, v)\n",
    "print(p1)\n",
    "\n",
    "#Con cicli\n",
    "m=u.shape[0]\n",
    "n=v.shape[0]\n",
    "p2 = np.empty((m,n))\n",
    "for i in range(m):\n",
    "    for j in range(n):\n",
    "        p2[i, j] = u[i]*v[j]\n",
    "print(p2)\n",
    "\n",
    "#With numpy broadcasting operations\n",
    "p3l=[]\n",
    "for i in u:\n",
    "    p3l.append(v*i)\n",
    "    \n",
    "\n",
    "\n",
    "p3=np.array(p3l)\n",
    "print(p3)\n",
    "\n",
    "\n",
    "\n",
    "\n"
   ]
  },
  {
   "cell_type": "markdown",
   "metadata": {},
   "source": [
    "3\\. Create a 10 by 6 matrix of random uniform numbers. Set all rows with any entry less than 0.1 to be zero\n",
    "\n",
    "Hint: Use the following numpy functions - np.random.random, np.any as well as Boolean indexing and the axis argument."
   ]
  },
  {
   "cell_type": "code",
   "execution_count": 29,
   "metadata": {},
   "outputs": [
    {
     "name": "stdout",
     "output_type": "stream",
     "text": [
      "[[0.46263982 0.26452994 0.20742337 0.11961266 0.96721796 0.6680657 ]\n",
      " [0.28355211 0.16044621 0.23841387 0.44179148 0.85380046 0.82010707]\n",
      " [0.21719907 0.74244042 0.67906423 0.05262519 0.14100309 0.4182403 ]\n",
      " [0.49863113 0.0868841  0.15387299 0.70372837 0.3470344  0.11687249]\n",
      " [0.37231036 0.50986229 0.05461547 0.5829719  0.24735914 0.18796169]\n",
      " [0.09955246 0.20200764 0.76604771 0.30713155 0.07437064 0.45420283]\n",
      " [0.2787423  0.87880426 0.77751535 0.23724145 0.0530756  0.60730222]\n",
      " [0.92730821 0.40338024 0.01766897 0.3559873  0.67035675 0.40358253]\n",
      " [0.10134234 0.33663526 0.58934264 0.82780987 0.61328761 0.04087812]\n",
      " [0.53826294 0.52953293 0.22985427 0.98905067 0.56800329 0.7436605 ]]\n",
      "[[0.46263982 0.26452994 0.20742337 0.11961266 0.96721796 0.6680657 ]\n",
      " [0.28355211 0.16044621 0.23841387 0.44179148 0.85380046 0.82010707]\n",
      " [0.21719907 0.74244042 0.67906423 0.         0.14100309 0.4182403 ]\n",
      " [0.49863113 0.         0.15387299 0.70372837 0.3470344  0.11687249]\n",
      " [0.37231036 0.50986229 0.         0.5829719  0.24735914 0.18796169]\n",
      " [0.         0.20200764 0.76604771 0.30713155 0.         0.45420283]\n",
      " [0.2787423  0.87880426 0.77751535 0.23724145 0.         0.60730222]\n",
      " [0.92730821 0.40338024 0.         0.3559873  0.67035675 0.40358253]\n",
      " [0.10134234 0.33663526 0.58934264 0.82780987 0.61328761 0.        ]\n",
      " [0.53826294 0.52953293 0.22985427 0.98905067 0.56800329 0.7436605 ]]\n",
      "altro caso: \n",
      "\n",
      "[[0.68979809 0.21931044 0.76002419 0.92327067 0.1071637  0.14968959]\n",
      " [0.95361333 0.5609804  0.69024326 0.26852428 0.41010119 0.45685243]\n",
      " [0.30865715 0.20857617 0.64781649 0.19282036 0.96567463 0.94594707]\n",
      " [0.25966511 0.15569788 0.43626867 0.34039054 0.46176179 0.25086555]\n",
      " [0.60111623 0.24161174 0.33287817 0.83527514 0.6104141  0.44713357]\n",
      " [0.90716472 0.02206506 0.8011881  0.83954327 0.00802698 0.83846039]\n",
      " [0.27665717 0.53351581 0.36109783 0.37122071 0.82711365 0.5481544 ]\n",
      " [0.09195745 0.45297862 0.28458447 0.57907388 0.16215994 0.10521752]\n",
      " [0.6719496  0.74293212 0.15015557 0.83844327 0.76879821 0.17396276]\n",
      " [0.22647624 0.36635923 0.69284395 0.43855296 0.77406719 0.56376564]]\n",
      "[[0.68979809 0.21931044 0.76002419 0.92327067 0.1071637  0.14968959]\n",
      " [0.95361333 0.5609804  0.69024326 0.26852428 0.41010119 0.45685243]\n",
      " [0.30865715 0.20857617 0.64781649 0.19282036 0.96567463 0.94594707]\n",
      " [0.25966511 0.15569788 0.43626867 0.34039054 0.46176179 0.25086555]\n",
      " [0.60111623 0.24161174 0.33287817 0.83527514 0.6104141  0.44713357]\n",
      " [0.         0.         0.         0.         0.         0.        ]\n",
      " [0.27665717 0.53351581 0.36109783 0.37122071 0.82711365 0.5481544 ]\n",
      " [0.         0.         0.         0.         0.         0.        ]\n",
      " [0.6719496  0.74293212 0.15015557 0.83844327 0.76879821 0.17396276]\n",
      " [0.22647624 0.36635923 0.69284395 0.43855296 0.77406719 0.56376564]]\n"
     ]
    }
   ],
   "source": [
    "import numpy.random as npr\n",
    "\n",
    "m=npr.rand(10,6)\n",
    "print(m)\n",
    "\n",
    "\n",
    "#Cambia in 0 valori minori di 0.1\n",
    "mask=(m < 0.1)\n",
    "m[mask]=0\n",
    "print(m)\n",
    "\n",
    "#Set to 0 all rows containing entries less than 0.1\n",
    "print(\"altro caso: \\n\")\n",
    "m2=npr.rand(10,6)\n",
    "print(m2)\n",
    "mf=np.any(m2 < 0.1, axis = 1)\n",
    "for i in range(mf.shape[0]):\n",
    "    if mf[i]==True: \n",
    "        m2[i]=0\n",
    "print(m2)\n",
    "\n"
   ]
  },
  {
   "cell_type": "markdown",
   "metadata": {},
   "source": [
    "4\\. Use np.linspace to create an array of 100 numbers between 0 and 2π (includsive).\n",
    "\n",
    "  * Extract every 10th element using slice notation\n",
    "  * Reverse the array using slice notation\n",
    "  * Extract elements where the absolute difference between the sine and cosine functions evaluated at that element is less than 0.1\n",
    "  * Make a plot showing the sin and cos functions and indicate where they are close"
   ]
  },
  {
   "cell_type": "code",
   "execution_count": 48,
   "metadata": {},
   "outputs": [
    {
     "name": "stdout",
     "output_type": "stream",
     "text": [
      "[0.         0.06346652 0.12693304 0.19039955 0.25386607 0.31733259\n",
      " 0.38079911 0.44426563 0.50773215 0.57119866 0.63466518 0.6981317\n",
      " 0.76159822 0.82506474 0.88853126 0.95199777 1.01546429 1.07893081\n",
      " 1.14239733 1.20586385 1.26933037 1.33279688 1.3962634  1.45972992\n",
      " 1.52319644 1.58666296 1.65012947 1.71359599 1.77706251 1.84052903\n",
      " 1.90399555 1.96746207 2.03092858 2.0943951  2.15786162 2.22132814\n",
      " 2.28479466 2.34826118 2.41172769 2.47519421 2.53866073 2.60212725\n",
      " 2.66559377 2.72906028 2.7925268  2.85599332 2.91945984 2.98292636\n",
      " 3.04639288 3.10985939 3.17332591 3.23679243 3.30025895 3.36372547\n",
      " 3.42719199 3.4906585  3.55412502 3.61759154 3.68105806 3.74452458\n",
      " 3.8079911  3.87145761 3.93492413 3.99839065 4.06185717 4.12532369\n",
      " 4.1887902  4.25225672 4.31572324 4.37918976 4.44265628 4.5061228\n",
      " 4.56958931 4.63305583 4.69652235 4.75998887 4.82345539 4.88692191\n",
      " 4.95038842 5.01385494 5.07732146 5.14078798 5.2042545  5.26772102\n",
      " 5.33118753 5.39465405 5.45812057 5.52158709 5.58505361 5.64852012\n",
      " 5.71198664 5.77545316 5.83891968 5.9023862  5.96585272 6.02931923\n",
      " 6.09278575 6.15625227 6.21971879 6.28318531]\n",
      "[0.         0.63466518 1.26933037 1.90399555 2.53866073 3.17332591\n",
      " 3.8079911  4.44265628 5.07732146 5.71198664]\n",
      "[6.28318531 6.21971879 6.15625227 6.09278575 6.02931923 5.96585272\n",
      " 5.9023862  5.83891968 5.77545316 5.71198664 5.64852012 5.58505361\n",
      " 5.52158709 5.45812057 5.39465405 5.33118753 5.26772102 5.2042545\n",
      " 5.14078798 5.07732146 5.01385494 4.95038842 4.88692191 4.82345539\n",
      " 4.75998887 4.69652235 4.63305583 4.56958931 4.5061228  4.44265628\n",
      " 4.37918976 4.31572324 4.25225672 4.1887902  4.12532369 4.06185717\n",
      " 3.99839065 3.93492413 3.87145761 3.8079911  3.74452458 3.68105806\n",
      " 3.61759154 3.55412502 3.4906585  3.42719199 3.36372547 3.30025895\n",
      " 3.23679243 3.17332591 3.10985939 3.04639288 2.98292636 2.91945984\n",
      " 2.85599332 2.7925268  2.72906028 2.66559377 2.60212725 2.53866073\n",
      " 2.47519421 2.41172769 2.34826118 2.28479466 2.22132814 2.15786162\n",
      " 2.0943951  2.03092858 1.96746207 1.90399555 1.84052903 1.77706251\n",
      " 1.71359599 1.65012947 1.58666296 1.52319644 1.45972992 1.3962634\n",
      " 1.33279688 1.26933037 1.20586385 1.14239733 1.07893081 1.01546429\n",
      " 0.95199777 0.88853126 0.82506474 0.76159822 0.6981317  0.63466518\n",
      " 0.57119866 0.50773215 0.44426563 0.38079911 0.31733259 0.25386607\n",
      " 0.19039955 0.12693304 0.06346652 0.        ]\n"
     ]
    },
    {
     "data": {
      "text/plain": [
       "[<matplotlib.lines.Line2D at 0x29134e6dee0>]"
      ]
     },
     "execution_count": 48,
     "metadata": {},
     "output_type": "execute_result"
    },
    {
     "data": {
      "image/png": "[encoded data removed]",
      "text/plain": [
       "<Figure size 432x288 with 1 Axes>"
      ]
     },
     "metadata": {
      "needs_background": "light"
     },
     "output_type": "display_data"
    }
   ],
   "source": [
    "import math\n",
    "from matplotlib import pyplot as plt\n",
    "\n",
    "x=np.linspace(0,2*(math.pi),100)\n",
    "print(x)\n",
    "\n",
    "#Extract every 10th element using slice notation\n",
    "x10 = x[::10]\n",
    "print(x10)\n",
    "\n",
    "#Reverse the array using slice notation\n",
    "xr = x[::-1]\n",
    "print(xr)\n",
    "\n",
    "#Extract elements where the absolute difference between the sine and cosine \n",
    "#functions evaluated at that element is less than 0.1\n",
    "mask2 = (abs(np.sin(x)-np.cos(x)) < 0.1)\n",
    "xf = x[mask2]\n",
    "        \n",
    "#Make a plot showing the sin and cos functions and indicate where they are close\n",
    "plt.plot(x,np.sin(x))\n",
    "plt.plot(x,np.cos(x))\n",
    "plt.plot(xf,np.sin(xf),linewidth = 0,marker=\".\",color=\"r\",markersize=\"10\")\n",
    "plt.plot(xf,np.cos(xf),linewidth = 0,marker=\".\",color=\"g\",markersize=\"10\")\n",
    "\n"
   ]
  },
  {
   "cell_type": "markdown",
   "metadata": {},
   "source": [
    "5\\. Create a matrix that shows the 10 by 10 multiplication table.\n",
    "\n",
    " * Find the trace of the matrix\n",
    " * Extract the anto-diagonal (this should be ```array([10, 18, 24, 28, 30, 30, 28, 24, 18, 10])```)\n",
    " * Extract the diagnoal offset by 1 upwards (this should be ```array([ 2,  6, 12, 20, 30, 42, 56, 72, 90])```)"
   ]
  },
  {
   "cell_type": "code",
   "execution_count": 53,
   "metadata": {},
   "outputs": [
    {
     "name": "stdout",
     "output_type": "stream",
     "text": [
      "[[  1   2   3   4   5   6   7   8   9  10]\n",
      " [  2   4   6   8  10  12  14  16  18  20]\n",
      " [  3   6   9  12  15  18  21  24  27  30]\n",
      " [  4   8  12  16  20  24  28  32  36  40]\n",
      " [  5  10  15  20  25  30  35  40  45  50]\n",
      " [  6  12  18  24  30  36  42  48  54  60]\n",
      " [  7  14  21  28  35  42  49  56  63  70]\n",
      " [  8  16  24  32  40  48  56  64  72  80]\n",
      " [  9  18  27  36  45  54  63  72  81  90]\n",
      " [ 10  20  30  40  50  60  70  80  90 100]]\n",
      "The trace of the matrix is:  385\n",
      "The antidiagonal is: \n",
      " [10 18 24 28 30 30 28 24 18 10]\n",
      "[ 2  6 12 20 30 42 56 72 90]\n"
     ]
    }
   ],
   "source": [
    "mp=np.outer(np.arange(1,11),np.arange(1,11))\n",
    "print(mp)\n",
    "\n",
    "print(\"The trace of the matrix is: \",mp.trace())\n",
    "\n",
    "#Extract the anti-diagonal\n",
    "print(\"The antidiagonal is: \\n\",np.fliplr(mp).diagonal())\n",
    "\n",
    "#Extract the diagnoal offset by 1 upwards\n",
    "print(np.diag(mp, 1))"
   ]
  },
  {
   "cell_type": "markdown",
   "metadata": {},
   "source": [
    "6\\. Use broadcasting to create a grid of distances\n",
    "\n",
    "Route 66 crosses the following cities in the US: Chicago, Springfield, Saint-Louis, Tulsa, Oklahoma City, Amarillo, Santa Fe, Albuquerque, Flagstaff, Los Angeles\n",
    "The corresponding positions in miles are: 0, 198, 303, 736, 871, 1175, 1475, 1544, 1913, 2448\n",
    "\n",
    "  * Construct a 2D grid of distances among each city along Route 66\n",
    "  * Convert that in km (those savages...)"
   ]
  },
  {
   "cell_type": "code",
   "execution_count": 60,
   "metadata": {},
   "outputs": [
    {
     "name": "stdout",
     "output_type": "stream",
     "text": [
      "In miles: \n",
      " [[   0  198  303  736  871 1175 1475 1544 1913 2448]\n",
      " [ 198    0  105  538  673  977 1277 1346 1715 2250]\n",
      " [ 303  105    0  433  568  872 1172 1241 1610 2145]\n",
      " [ 736  538  433    0  135  439  739  808 1177 1712]\n",
      " [ 871  673  568  135    0  304  604  673 1042 1577]\n",
      " [1175  977  872  439  304    0  300  369  738 1273]\n",
      " [1475 1277 1172  739  604  300    0   69  438  973]\n",
      " [1544 1346 1241  808  673  369   69    0  369  904]\n",
      " [1913 1715 1610 1177 1042  738  438  369    0  535]\n",
      " [2448 2250 2145 1712 1577 1273  973  904  535    0]]\n",
      "In km: \n",
      " [[   0.   316.8  484.8 1177.6 1393.6 1880.  2360.  2470.4 3060.8 3916.8]\n",
      " [ 316.8    0.   168.   860.8 1076.8 1563.2 2043.2 2153.6 2744.  3600. ]\n",
      " [ 484.8  168.     0.   692.8  908.8 1395.2 1875.2 1985.6 2576.  3432. ]\n",
      " [1177.6  860.8  692.8    0.   216.   702.4 1182.4 1292.8 1883.2 2739.2]\n",
      " [1393.6 1076.8  908.8  216.     0.   486.4  966.4 1076.8 1667.2 2523.2]\n",
      " [1880.  1563.2 1395.2  702.4  486.4    0.   480.   590.4 1180.8 2036.8]\n",
      " [2360.  2043.2 1875.2 1182.4  966.4  480.     0.   110.4  700.8 1556.8]\n",
      " [2470.4 2153.6 1985.6 1292.8 1076.8  590.4  110.4    0.   590.4 1446.4]\n",
      " [3060.8 2744.  2576.  1883.2 1667.2 1180.8  700.8  590.4    0.   856. ]\n",
      " [3916.8 3600.  3432.  2739.2 2523.2 2036.8 1556.8 1446.4  856.     0. ]]\n"
     ]
    }
   ],
   "source": [
    "distances=np.array([0,198,303,736,871,1175,1475,1544,1913,2448])\n",
    "\n",
    "#For broadcasting one array has to be transposed\n",
    "distances_grid = np.abs(distances - distances[:, np.newaxis])\n",
    "print(\"In miles: \\n\",distances_grid)\n",
    "\n",
    "print(\"In km: \\n\",distances_grid*1.6)"
   ]
  },
  {
   "cell_type": "markdown",
   "metadata": {},
   "source": [
    "7\\. Prime numbers sieve: compute the prime numbers in the 0-N (N=99 to start with) range with a sieve (mask).\n",
    "  * Constract a shape (100,) boolean array, the mask\n",
    "  * Identify the multiples of each number starting from 2 and set accordingly the corresponding mask element\n",
    "  * Apply the mask to obtain an array of ordered prime numbers\n",
    "  * Check the performances (timeit); how does it scale with N?\n",
    "  * Implement the optimization suggested in the [sieve of Eratosthenes](https://en.wikipedia.org/wiki/Sieve_of_Eratosthenes)"
   ]
  },
  {
   "cell_type": "code",
   "execution_count": 74,
   "metadata": {},
   "outputs": [
    {
     "name": "stdout",
     "output_type": "stream",
     "text": [
      "5.93 µs ± 184 ns per loop (mean ± std. dev. of 7 runs, 100000 loops each)\n",
      "6.51 µs ± 95.6 ns per loop (mean ± std. dev. of 7 runs, 100000 loops each)\n",
      "10.2 µs ± 319 ns per loop (mean ± std. dev. of 7 runs, 100000 loops each)\n"
     ]
    }
   ],
   "source": [
    "N=100\n",
    "\n",
    "\n",
    "def prime(n):\n",
    "    number=np.arange(n)\n",
    "    \n",
    "    #Constract a shape (100,) boolean array, the mask\n",
    "    prime_mask = np.ones((100,), dtype=bool)\n",
    "\n",
    "    #set 0 and 1 to be prime\n",
    "    prime_mask[:2]=False\n",
    "    N_max = int(np.sqrt(len(prime_mask)))\n",
    "    #search for all integers multiples\n",
    "    for i in range(2,N_max):\n",
    "        prime_mask[2*i::i] = False #From the double of the number and by step of that number!\n",
    "\n",
    "    #print(\"Prime numbers from 0 to 100: \\n\",number[prime_mask])\n",
    "\n",
    "%timeit prime(100)\n",
    "%timeit prime(1000)\n",
    "%timeit prime(10000) "
   ]
  },
  {
   "cell_type": "markdown",
   "metadata": {},
   "source": [
    "**N.B. the following exercises are meant to be solved only if you are familiar with the numpy random library. If not you can skip them (postponed for one of the next exercise sessions)**\n"
   ]
  },
  {
   "cell_type": "markdown",
   "metadata": {},
   "source": [
    "8\\. Diffusion using random walk\n",
    "\n",
    "Consider a simple random walk process: at each step in time, a walker jumps right or left (+1 or -1) with equal probability. The goal is to find the typical distance from the origin of a random walker after a given amount of time. \n",
    "To do that, let's simulate many walkers and create a 2D array with each walker as a raw and the actual time evolution as columns\n",
    "\n",
    "  * Take 1000 walkers and let them walk for 200 steps\n",
    "  * Use randint to create a 2D array of size walkers x steps with values -1 or 1\n",
    "  * Build the actual walking distances for each walker (i.e. another 2D array \"summing on each raw\")\n",
    "  * Take the square of that 2D array (elementwise)\n",
    "  * Compute the mean of the squared distances at each step (i.e. the mean along the columns)\n",
    "  * Plot the average distances (sqrt(distance\\*\\*2)) as a function of time (step)\n",
    "  \n",
    "Did you get what you expected?"
   ]
  },
  {
   "cell_type": "code",
   "execution_count": 97,
   "metadata": {},
   "outputs": [
    {
     "name": "stdout",
     "output_type": "stream",
     "text": [
      "[[-1 -1  1 ...  1 -1  1]\n",
      " [-1  1 -1 ... -1  1 -1]\n",
      " [ 1 -1 -1 ... -1  1 -1]\n",
      " ...\n",
      " [-1 -1 -1 ... -1 -1 -1]\n",
      " [-1 -1  1 ... -1 -1 -1]\n",
      " [ 1  1  1 ... -1 -1  1]]\n",
      "[[ -1  -2  -1 ... -16 -17 -16]\n",
      " [ -1   0  -1 ...   4   5   4]\n",
      " [  1   0  -1 ... -18 -17 -18]\n",
      " ...\n",
      " [ -1  -2  -3 ...  20  19  18]\n",
      " [ -1  -2  -1 ... -14 -15 -16]\n",
      " [  1   2   3 ...   4   3   4]]\n",
      "[  1.      1.792   2.856   3.912   4.952   5.872   6.688   7.644   8.448\n",
      "   9.304  10.008  10.752  11.664  12.308  13.288  14.524  15.28   16.348\n",
      "  17.728  18.644  19.832  20.86   21.648  22.672  23.576  24.324  25.224\n",
      "  26.62   27.264  27.884  28.856  29.044  29.896  31.348  32.248  33.228\n",
      "  33.856  34.82   36.6    37.484  38.8    39.528  40.36   41.944  42.6\n",
      "  43.372  44.496  45.992  46.768  47.196  47.864  48.788  49.872  50.948\n",
      "  51.8    52.568  53.152  54.064  54.704  55.92   57.016  57.464  59.208\n",
      "  59.988  62.224  62.788  64.28   64.468  64.792  66.276  66.584  66.692\n",
      "  68.168  68.864  70.224  71.512  72.8    74.068  75.24   75.56   77.192\n",
      "  78.604  78.888  80.036  82.376  83.988  85.456  87.068  88.568  89.844\n",
      "  91.104  91.24   92.616  93.476  94.84   95.496  96.784  98.32   98.528\n",
      "  98.732 100.664 102.472 103.272 104.832 105.096 106.32  107.304 109.64\n",
      " 110.008 110.352 112.272 113.84  114.936 116.856 118.944 119.468 120.128\n",
      " 121.46  121.6   122.164 122.464 123.904 124.376 125.032 125.76  126.856\n",
      " 128.152 129.852 130.048 130.436 132.624 133.98  134.288 134.86  136.912\n",
      " 138.176 138.44  139.572 141.096 141.888 142.528 142.936 144.408 145.624\n",
      " 145.776 146.592 147.552 147.872 148.84  149.78  148.776 149.756 151.064\n",
      " 152.324 153.704 154.244 155.496 156.548 159.96  160.744 163.16  163.872\n",
      " 164.472 165.704 166.784 167.452 169.952 170.488 171.648 171.912 173.504\n",
      " 174.708 176.544 177.484 177.52  180.212 180.752 180.324 181.264 181.8\n",
      " 183.072 184.456 185.312 185.92  185.32  186.752 188.456 189.892 190.24\n",
      " 190.032 190.416 192.332 192.544 193.68  194.376 194.824 195.672 196.268\n",
      " 197.568 196.352]\n"
     ]
    },
    {
     "data": {
      "text/plain": [
       "[<matplotlib.lines.Line2D at 0x29135f02ac0>]"
      ]
     },
     "execution_count": 97,
     "metadata": {},
     "output_type": "execute_result"
    },
    {
     "data": {
      "image/png": "[encoded data removed]",
      "text/plain": [
       "<Figure size 432x288 with 1 Axes>"
      ]
     },
     "metadata": {
      "needs_background": "light"
     },
     "output_type": "display_data"
    }
   ],
   "source": [
    "\n",
    "n=1000\n",
    "t=200\n",
    "time=np.arange(t)\n",
    "\n",
    "#Creation of the 2D array: row are walkers and matrix element are 1 or -1\n",
    "a=2 * npr.randint(0, 2, size=(n,t))-1\n",
    "print(a)\n",
    "\n",
    "#Creation of \"distance\" matrix\n",
    "aw=np.cumsum(a,axis=1)\n",
    "print(aw)\n",
    "\n",
    "#Evalurate square distance and mean value at each step\n",
    "aw_sq=aw**2\n",
    "mean_sq=np.mean(aw_sq,axis=0)\n",
    "print(mean_sq)\n",
    "\n",
    "#Plot the results \n",
    "plt.plot(time,np.sqrt(mean_sq))"
   ]
  },
  {
   "cell_type": "markdown",
   "metadata": {},
   "source": [
    "9\\. Analyze a data file \n",
    "  * Download the population of hares, lynxes and carrots at the beginning of the last century.\n",
    "    ```python\n",
    "    ! wget https://www.dropbox.com/s/3vigxoqayo389uc/populations.txt\n",
    "    ```\n",
    "\n",
    "  * Check the content by looking within the file\n",
    "  * Load the data (use an appropriate numpy method) into a 2D array\n",
    "  * Create arrays out of the columns, the arrays being (in order): *year*, *hares*, *lynxes*, *carrots* \n",
    "  * Plot the 3 populations over the years\n",
    "  * Compute the main statistical properties of the dataset (mean, std, correlations, etc.)\n",
    "  * Which species has the highest population each year?\n",
    "\n",
    "Do you feel there is some evident correlation here? [Studies](https://www.enr.gov.nt.ca/en/services/lynx/lynx-snowshoe-hare-cycle) tend to believe so."
   ]
  },
  {
   "cell_type": "code",
   "execution_count": 104,
   "metadata": {},
   "outputs": [
    {
     "name": "stdout",
     "output_type": "stream",
     "text": [
      "Media carote:  42400.0\n",
      "Deviazione carote:  3322.5062255844787\n"
     ]
    },
    {
     "data": {
      "image/png": "[encoded data removed]",
      "text/plain": [
       "<Figure size 432x288 with 1 Axes>"
      ]
     },
     "metadata": {
      "needs_background": "light"
     },
     "output_type": "display_data"
    }
   ],
   "source": [
    "#Load data \n",
    "data = np.loadtxt(\"Data/populations.txt\")\n",
    "\n",
    "# trick: columns to variables\n",
    "year, hares, lynxes, carrots = data.T\n",
    "\n",
    "\n",
    "#plot\n",
    "plt.plot(year,hares)\n",
    "plt.plot(year,lynxes)\n",
    "plt.plot(year,carrots)\n",
    "\n",
    "#Statistical properties\n",
    "mean_carrots=np.mean(carrots)\n",
    "std_carrots=np.std(carrots)\n",
    "print(\"Media carote: \",mean_carrots)\n",
    "print(\"Deviazione carote: \",std_carrots)"
   ]
  },
  {
   "cell_type": "code",
   "execution_count": null,
   "metadata": {},
   "outputs": [],
   "source": []
  }
 ],
 "metadata": {
  "kernelspec": {
   "display_name": "Python 3",
   "language": "python",
   "name": "python3"
  },
  "language_info": {
   "codemirror_mode": {
    "name": "ipython",
    "version": 3
   },
   "file_extension": ".py",
   "mimetype": "text/x-python",
   "name": "python",
   "nbconvert_exporter": "python",
   "pygments_lexer": "ipython3",
   "version": "3.8.8"
  }
 },
 "nbformat": 4,
 "nbformat_minor": 2
}
