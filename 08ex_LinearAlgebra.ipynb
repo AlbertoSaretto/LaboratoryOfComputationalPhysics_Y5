{
 "cells": [
  {
   "cell_type": "markdown",
   "metadata": {},
   "source": [
    "1\\. **PCA on 3D dataset**\n",
    "\n",
    "* Generate a dataset with 3 features each with N entries (N being ${\\cal O}(1000)$). With $N(\\mu,\\sigma)$ the normali distribution with mean $\\mu$ and $\\sigma$  standard deviation, generate the 3 variables $x_{1,2,3}$ such that:\n",
    "    * $x_1$ is distributed as $N(0,1)$\n",
    "    * $x_2$ is distributed as $x_1+N(0,3)$\n",
    "    * $x_3$ is given by $2x_1+x_2$\n",
    "* Find the eigenvectors and eigenvalues of the covariance matrix of the dataset\n",
    "* Find the eigenvectors and eigenvalues using SVD. Check that the two procedures yield to same result\n",
    "* What percent of the total dataset's variability is explained by the principal components? Given how the dataset was constructed, do these make sense? Reduce the dimensionality of the system so that at least 99% of the total variability is retained.\n",
    "* Redefine the data in the basis yielded by the PCA procedure\n",
    "* Plot the data points in the original and the new coordiantes as a set of scatter plots. Your final figure should have 2 rows of 3 plots each, where the columns show the (0,1), (0,2) and (1,2) proejctions.\n"
   ]
  },
  {
   "cell_type": "code",
   "execution_count": 24,
   "metadata": {},
   "outputs": [
    {
     "name": "stdout",
     "output_type": "stream",
     "text": [
      "Eigenvalues:  [-6.54967134e-16  2.10147319e+00  2.64084416e+01]\n",
      "Eigenvectors:  [[ 0.81649658  0.56446479 -0.12129648]\n",
      " [ 0.40824829 -0.71302203 -0.57002887]\n",
      " [-0.40824829  0.41590754 -0.81262184]]\n",
      "Eigenvectors: [[-0.12139551  0.5644435  -0.81649658]\n",
      " [-0.56990378 -0.71312202 -0.40824829]\n",
      " [-0.81269479  0.41576498  0.40824829]]\n",
      "Eigenvalues: [2.64087948e+04 2.10005057e+03 9.97090632e-29]\n"
     ]
    }
   ],
   "source": [
    "from matplotlib import pyplot as plt\n",
    "from scipy import linalg as la\n",
    "import numpy.random as npr\n",
    "import numpy as np\n",
    "\n",
    "\n",
    "# construct a dataset with a skewed 3D distribution\n",
    "mu = 0  \n",
    "sigma1 = 1\n",
    "sigma2 = 3 \n",
    "n = 1000\n",
    "\n",
    "\n",
    "x1 = npr.normal(loc=mu, scale=sigma1, size=n)\n",
    "x2 = x1 + npr.normal(mu, sigma2, n)\n",
    "x3 = 2*x1 + x2\n",
    "\n",
    "data = np.array([x1,x2,x3])\n",
    "\n",
    "#Compute the covariance matrix\n",
    "cov = np.cov(data)\n",
    "#Find eigenvectors and eigenvalues of a matrix\n",
    "l, V = la.eigh(cov)\n",
    "print(\"Eigenvalues: \", l)\n",
    "print(\"Eigenvectors: \", V)\n",
    "\n",
    "#????????????????\n",
    "#Eigenvalues and Eigenvactors using SVD\n",
    "# Compute the SVD of data\n",
    "U, s, V2 = la.svd(data)\n",
    "\n",
    "# The eigenvectors of data(dataT)=cov(data) are the columns of the matrix U\n",
    "eigenvectors = U\n",
    "\n",
    "# The eigenvalues of data(dataT)=cov(data) are the squares of the singular values s\n",
    "eigenvalues = np.square(s)\n",
    "\n",
    "print(\"Eigenvectors:\", eigenvectors)\n",
    "print(\"Eigenvalues:\", eigenvalues)\n",
    "#?????????????????\n",
    "\n"
   ]
  },
  {
   "cell_type": "markdown",
   "metadata": {},
   "source": [
    "2\\. **PCA on a nD dataset**\n",
    "\n",
    "Start from the dataset you have genereted in the previous exercise and add uncorrelated random noise. Such noise should be represented by other 10 uncorrelated variables normal distributed, with standar deviation much smaller (say, a factor 50) than those used to generate the $x_1$ and $x_2$.\n",
    "\n",
    "Repeat the PCA procedure and compare the results with what you obtained before"
   ]
  },
  {
   "cell_type": "markdown",
   "metadata": {},
   "source": [
    "3 \\. **Looking at an oscillating spring** (optional)\n",
    "\n",
    "Imagine you have $n$ cameras looking at a spring oscillating along the $x$ axis. Each  camera record the motion of the spring looking at it along a given direction defined by the pair $(\\theta_i, \\phi_i)$, the angles in spherical coordinates. \n",
    "\n",
    "Start from the simulation of the records (say ${\\cal O}(1000)$) of the spring's motion along the x axis, assuming a little random noise affects the measurements along the $y$. Rotate such dataset to emulate the records of each camera.\n",
    "\n",
    "Perform a Principal Component Analysis on the thus obtained dataset, aiming at finding the only one coordinate that really matters.\n"
   ]
  },
  {
   "cell_type": "markdown",
   "metadata": {},
   "source": [
    "4\\. **PCA on the MAGIC dataset** (optional)\n",
    "\n",
    "Perform a PCA on the magic04.data dataset"
   ]
  },
  {
   "cell_type": "code",
   "execution_count": null,
   "metadata": {},
   "outputs": [],
   "source": [
    "# get the dataset and its description on the proper data directory\n",
    "!wget https://archive.ics.uci.edu/ml/machine-learning-databases/magic/magic04.data -P ~/data/\n",
    "!wget https://archive.ics.uci.edu/ml/machine-learning-databases/magic/magic04.names -P ~/data/ "
   ]
  }
 ],
 "metadata": {
  "kernelspec": {
   "display_name": "Python 3",
   "language": "python",
   "name": "python3"
  },
  "language_info": {
   "codemirror_mode": {
    "name": "ipython",
    "version": 3
   },
   "file_extension": ".py",
   "mimetype": "text/x-python",
   "name": "python",
   "nbconvert_exporter": "python",
   "pygments_lexer": "ipython3",
   "version": "3.8.8"
  }
 },
 "nbformat": 4,
 "nbformat_minor": 2
}
