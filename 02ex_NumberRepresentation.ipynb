{
 "cells": [
  {
   "cell_type": "markdown",
   "metadata": {},
   "source": [
    "1\\. Write a function that converts number representation, bin<->dec<->hex. (Clearly using the corresponding python built-in functions is not fair..)"
   ]
  },
  {
   "cell_type": "code",
   "execution_count": 29,
   "metadata": {},
   "outputs": [
    {
     "name": "stdout",
     "output_type": "stream",
     "text": [
      "4\n",
      "Which representation? hex-dec\n",
      "17\n",
      "4\n"
     ]
    }
   ],
   "source": [
    "a_dec = 4\n",
    "a_bin= ['0','b','1','0','0']\n",
    "a_dec2=17\n",
    "a_hex=['0','h','1','1']\n",
    "\n",
    "\n",
    "\n",
    "def function1(x):\n",
    "    i=input(\"Which representation? \")\n",
    "    if (i == \"dec-bin\"):\n",
    "        d=x\n",
    "        num=[\"0\",\"b\"]\n",
    "        r=[]\n",
    "        while d!=0:\n",
    "            r.append((d%2))\n",
    "            d=int(d/2)\n",
    "        r=r[::-1]\n",
    "        for j in r:\n",
    "            num.append(str(j))\n",
    "        return num\n",
    "    elif (i == \"bin-dec\"):\n",
    "        num=0\n",
    "        for j in range(2,len(x)):\n",
    "            num=num+int(x[j])*2**((len(x)-1)-j)\n",
    "        return num\n",
    "    elif (i == \"dec-hex\"):\n",
    "        hexa=['0','1','2','3','4','5','6','7','8','9','a','b','c','d','e','f']\n",
    "        d=x\n",
    "        num=[\"0\",\"h\"]\n",
    "        r=[]\n",
    "        while d!=0:\n",
    "            r.append(hexa[d%16])\n",
    "            d=int(d/16)\n",
    "        r=r[::-1]\n",
    "        for j in r:\n",
    "            num.append(j)\n",
    "        return num\n",
    "    elif (i == \"hex-dec\"):\n",
    "        num=0\n",
    "        for j in range(2,len(x)):\n",
    "            num=num+int(x[j])*16**((len(x)-1)-j)\n",
    "        return num\n",
    "    else:\n",
    "        print(\"Wrong input!\")\n",
    "\n",
    "\n",
    "print(a)        \n",
    "print(function1(a_dec))\n",
    "print(function1(a_bin))\n",
    "print(function1(a_dec2))\n",
    "print(function1(a_hex))\n",
    "print(a)\n",
    "    \n",
    "    "
   ]
  },
  {
   "cell_type": "markdown",
   "metadata": {},
   "source": [
    "2 Write a function that converts a 32 bit word into a single precision floating point (i.e. interprets the various bits as sign, mantissa and exponent)"
   ]
  },
  {
   "cell_type": "code",
   "execution_count": 10,
   "metadata": {},
   "outputs": [
    {
     "name": "stdout",
     "output_type": "stream",
     "text": [
      "00000111\n",
      "7\n",
      "0.75\n",
      "1.316553672920962e-36\n"
     ]
    }
   ],
   "source": [
    "def conversion(x):\n",
    "    sign=1\n",
    "    \n",
    "    if x[0]==1:     #Determine sign\n",
    "        sign=-1\n",
    "    elif x[0]==0:\n",
    "        sign=1\n",
    "        \n",
    "    exp=x[1:9]     #Determine exponent\n",
    "    print(exp)\n",
    "    expo=0\n",
    "    for j in range(len(exp)):\n",
    "            expo=expo+int(exp[j])*2**((len(exp)-1)-j)\n",
    "\n",
    "    \n",
    "    mant=x[9:]     #Determine Mantissa\n",
    "    manto=0\n",
    "    for i in range(len(mant)):\n",
    "            manto=manto+int(mant[i])*(1/2)**(i+1)\n",
    "\n",
    "            \n",
    "    return sign*(manto+1)*2**(expo-127)\n",
    "        \n",
    "word='00000011111000000000000000000000'\n",
    "print(conversion(word))\n",
    "        \n",
    "    \n",
    "        "
   ]
  },
  {
   "cell_type": "markdown",
   "metadata": {},
   "source": [
    "3\\. Write a program to determine the underflow and overflow limits (within a factor of 2) for python on your computer. \n",
    "\n",
    "**Tips**: define two variables inizialized to 1 and halve/double them enough time to exceed the under/over-flow limits  "
   ]
  },
  {
   "cell_type": "code",
   "execution_count": null,
   "metadata": {},
   "outputs": [],
   "source": [
    "over=1\n",
    "under=1\n",
    "\n",
    "\n"
   ]
  },
  {
   "cell_type": "markdown",
   "metadata": {},
   "source": [
    "4\\. Write a program to determine the machine precision\n",
    "\n",
    "**Tips**: define a new variable by adding a smaller and smaller value (proceeding similarly to prob. 2) to an original variable and check the point where the two are the same "
   ]
  },
  {
   "cell_type": "code",
   "execution_count": 3,
   "metadata": {},
   "outputs": [
    {
     "name": "stdout",
     "output_type": "stream",
     "text": [
      "La precisione macchina è: 10^- 324\n"
     ]
    }
   ],
   "source": [
    "x=0\n",
    "p=False\n",
    "n=1\n",
    "\n",
    "while p==False:\n",
    "    if x-x+(0.1)**n==0:\n",
    "        p=True\n",
    "        print(\"La precisione macchina è: 10^-\",n)\n",
    "    else:\n",
    "        x=x+(0.1)**n\n",
    "        n=n+1\n",
    "        \n"
   ]
  },
  {
   "cell_type": "markdown",
   "metadata": {},
   "source": [
    "5\\. Write a function that takes in input three parameters $a$, $b$ and $c$ and prints out the two solutions to the quadratic equation $ax^2+bx+c=0$ using the standard formula:\n",
    "$$\n",
    "x=\\frac{-b\\pm\\sqrt{b^2-4ac}}{2a}\n",
    "$$\n",
    "\n",
    "(a) use the program to compute the solution for $a=0.001$, $b=1000$ and $c=0.001$\n",
    "\n",
    "(b) re-express the standard solution formula by multiplying top and bottom by $-b\\mp\\sqrt{b^2-4ac}$ and again find the solution for $a=0.001$, $b=1000$ and $c=0.001$. How does it compare with what previously obtained? Why?\n",
    "\n",
    "(c) write a function that compute the roots of a quadratic equation accurately in all cases"
   ]
  },
  {
   "cell_type": "code",
   "execution_count": 28,
   "metadata": {},
   "outputs": [
    {
     "name": "stdout",
     "output_type": "stream",
     "text": [
      "(-9.999894245993346e-07, -999999.999999)\n",
      "(-9.999894245993346e-07, -999999.9999990001)\n",
      "(-1.0000000000009999e-06, -1000010.5755125057)\n",
      "(-9.999894245993346e-07, -999999.9999989999)\n"
     ]
    }
   ],
   "source": [
    "from math import sqrt\n",
    "\n",
    "a1=0.001\n",
    "b1=1000\n",
    "c1=0.001\n",
    "\n",
    "def roots1(a,b,c):\n",
    "    x1=(-b+sqrt(b**2-4*a*c))/(2*a)\n",
    "    x2=(-b-sqrt(b**2-4*a*c))/(2*a)\n",
    "    return x1,x2\n",
    "\n",
    "def roots2(a,b,c):\n",
    "    x1=((-b+sqrt(b**2-4*a*c))*((-b-sqrt(b**2-4*a*c))))/((2*a)*(-b-sqrt(b**2-4*a*c)))\n",
    "    x2=((-b-sqrt(b**2-4*a*c))*((-b+sqrt(b**2-4*a*c))))/((2*a)*(-b+sqrt(b**2-4*a*c)))\n",
    "    return x1,x2\n",
    "\n",
    "def roots3(a,b,c):\n",
    "    x1=(4*a*c)/((2*a)*(-b-sqrt(b**2-4*a*c)))\n",
    "    x2=(4*a*c)/((2*a)*(-b+sqrt(b**2-4*a*c)))\n",
    "    return x1,x2\n",
    "\n",
    "def roots4(a,b,c):\n",
    "    x1=((-b+sqrt(b**2-4*a*c))*((-b-sqrt(b**2-4*a*c))))/((2*a)*(-b-sqrt(b**2-4*a*c)))\n",
    "    x2=((-b-sqrt(b**2-4*a*c)))/((2*a))*((-b+sqrt(b**2-4*a*c)))/(-b+sqrt(b**2-4*a*c))\n",
    "    return x1,x2\n",
    "\n",
    "print(roots1(a1,b1,c1))\n",
    "print(roots2(a1,b1,c1))\n",
    "print(roots3(a1,b1,c1))\n",
    "print(roots4(a1,b1,c1))\n",
    "\n"
   ]
  },
  {
   "cell_type": "markdown",
   "metadata": {},
   "source": [
    "6\\. Write a program that implements the function $f(x)=x(x−1)$\n",
    "\n",
    "(a) Calculate the derivative of the function at the point $x = 1$ using the derivative definition:\n",
    "\n",
    "$$\n",
    "\\frac{{\\rm d}f}{{\\rm d}x} = \\lim_{\\delta\\to0} \\frac{f(x+\\delta)-f(x)}{\\delta}\n",
    "$$\n",
    "\n",
    "with $\\delta = 10^{−2}$. Calculate the true value of the same derivative analytically and compare with the answer your program gives. The two will not agree perfectly. Why not?\n",
    "\n",
    "(b) Repeat the calculation for $\\delta = 10^{−4}, 10^{−6}, 10^{−8}, 10^{−10}, 10^{−12}$ and $10^{−14}$. How does the accuracy scales with $\\delta$?"
   ]
  },
  {
   "cell_type": "code",
   "execution_count": 8,
   "metadata": {},
   "outputs": [
    {
     "name": "stdout",
     "output_type": "stream",
     "text": [
      "1.010000000000001\n",
      "1.0000999999998899\n",
      "1.000000999917733\n",
      "1.0000000039225287\n",
      "1.0000000828403708\n",
      "1.000088900583341\n",
      "0.9992007221626507\n"
     ]
    }
   ],
   "source": [
    "x1=1\n",
    "\n",
    "def f(x):\n",
    "    return x*(x-1)\n",
    "\n",
    "def df(x,d):\n",
    "    return (f(x+d)-f(x))/d\n",
    "\n",
    "for i in range(7):\n",
    "    print(df(x1,0.01**(i+1)))\n",
    "    \n",
    "\n"
   ]
  },
  {
   "cell_type": "markdown",
   "metadata": {},
   "source": [
    "7\\. Consider the integral of the semicircle of radius 1:\n",
    "$$\n",
    "I=\\int_{-1}^{1} \\sqrt(1-x^2) {\\rm d}x\n",
    "$$\n",
    "which it's known to be $I=\\frac{\\pi}{2}=1.57079632679...$.\n",
    "Alternatively we can use the Riemann definition of the integral:\n",
    "$$\n",
    "I=\\lim_{N\\to\\infty} \\sum_{k=1}^{N} h y_k \n",
    "$$\n",
    "\n",
    "with $h=2/N$ the width of each of the $N$ slices the domain is divided into and where\n",
    "$y_k$ is the value of the function at the $k-$th slice.\n",
    "\n",
    "(a) Write a programe to compute the integral with $N=100$. How does the result compares to the true value?\n",
    "\n",
    "(b) How much can $N$ be increased if the computation needs to be run in less than a second? What is the gain in running it for 1 minute? \n"
   ]
  },
  {
   "cell_type": "code",
   "execution_count": 22,
   "metadata": {},
   "outputs": [
    {
     "name": "stdout",
     "output_type": "stream",
     "text": [
      "1.5707963262069677\n",
      "1.5707963267936778\n",
      "The gain is: 5.867100139056447e-10\n"
     ]
    }
   ],
   "source": [
    "\n",
    "def f(x):\n",
    "    return sqrt(1-x**2)\n",
    "\n",
    "def Integral(N):\n",
    "    int=0\n",
    "    for i in range(N):\n",
    "        int+=f(-1+(2/N)*i)*(2/N)\n",
    "    return int\n",
    "\n",
    "int1=Integral(2000000)\n",
    "int60=Integral(2000000*60)\n",
    "\n",
    "print(int1)    \n",
    "print(int60)\n",
    "print('The gain is:', int60-int1)\n",
    "\n",
    "    "
   ]
  },
  {
   "cell_type": "code",
   "execution_count": null,
   "metadata": {},
   "outputs": [],
   "source": []
  }
 ],
 "metadata": {
  "kernelspec": {
   "display_name": "Python 3",
   "language": "python",
   "name": "python3"
  },
  "language_info": {
   "codemirror_mode": {
    "name": "ipython",
    "version": 3
   },
   "file_extension": ".py",
   "mimetype": "text/x-python",
   "name": "python",
   "nbconvert_exporter": "python",
   "pygments_lexer": "ipython3",
   "version": "3.8.8"
  }
 },
 "nbformat": 4,
 "nbformat_minor": 2
}
