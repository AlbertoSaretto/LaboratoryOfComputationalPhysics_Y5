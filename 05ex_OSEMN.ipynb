{
 "cells": [
  {
   "cell_type": "markdown",
   "metadata": {},
   "source": [
    "# OSEMN Exercises"
   ]
  },
  {
   "cell_type": "code",
   "execution_count": 2,
   "metadata": {},
   "outputs": [],
   "source": [
    "%matplotlib inline\n",
    "import pandas as pd\n",
    "import numpy as np\n",
    "import numpy.random as npr"
   ]
  },
  {
   "cell_type": "markdown",
   "metadata": {},
   "source": [
    "1\\. Create a random list of number and then save it to a text file named \"simple_data.txt\""
   ]
  },
  {
   "cell_type": "code",
   "execution_count": 9,
   "metadata": {},
   "outputs": [],
   "source": [
    "\n",
    "a=npr.rand(10)\n",
    "\n",
    "#Create a new file, \"x\" stands for createe, \"w\" for create or overwrite\n",
    "f = open(\"simple_data.txt\",\"w\")\n",
    "for i in a:\n",
    "    f.write(str(i))\n",
    "    f.write(\"\\n\")\n",
    "    "
   ]
  },
  {
   "cell_type": "markdown",
   "metadata": {},
   "source": [
    "2\\. Create a random matrix of 5x5 and then save it to a text file named \"data.txt\""
   ]
  },
  {
   "cell_type": "code",
   "execution_count": 17,
   "metadata": {},
   "outputs": [
    {
     "name": "stdout",
     "output_type": "stream",
     "text": [
      "[[0.50207956 0.65166029 0.70888356 0.96870591 0.83759482]\n",
      " [0.48311221 0.81759063 0.91151358 0.24725159 0.57161206]\n",
      " [0.00149459 0.50890539 0.48378479 0.98421934 0.10020262]\n",
      " [0.242003   0.52840338 0.1569869  0.69625759 0.03652902]\n",
      " [0.75897485 0.94330767 0.93715262 0.22814461 0.12763697]]\n"
     ]
    }
   ],
   "source": [
    "n=5\n",
    "a2 = npr.rand(n,n)\n",
    "print(a2)\n",
    "\n",
    "with open('data.txt',\"w\") as f2:\n",
    "    np.savetxt(f2,a2)    "
   ]
  },
  {
   "cell_type": "markdown",
   "metadata": {},
   "source": [
    "3\\. Load the saved txt file of point 2 and convert it to a csv file (by hand)"
   ]
  },
  {
   "cell_type": "code",
   "execution_count": 21,
   "metadata": {},
   "outputs": [
    {
     "name": "stdout",
     "output_type": "stream",
     "text": [
      "[['5.020795617768272212e-01', '6.516602864813882956e-01', '7.088835633905919975e-01', '9.687059124174725033e-01', '8.375948179123817727e-01'], ['4.831122083640725373e-01', '8.175906322867511067e-01', '9.115135818205446494e-01', '2.472515934175566477e-01', '5.716120610628299126e-01'], ['1.494586490019544911e-03', '5.089053851793740035e-01', '4.837847865534266045e-01', '9.842193376417142092e-01', '1.002026162681154409e-01'], ['2.420030017124641386e-01', '5.284033788559444611e-01', '1.569869013164457705e-01', '6.962575878986175804e-01', '3.652902095367827062e-02'], ['7.589748503942186364e-01', '9.433076673962167424e-01', '9.371526181483880169e-01', '2.281446069817067990e-01', '1.276369722937951146e-01']]\n"
     ]
    }
   ],
   "source": [
    "import csv\n",
    "\n",
    "rows = []\n",
    "\n",
    "with open(\"data.txt\", \"r\") as f:\n",
    "    for line in f.readlines():\n",
    "        values = line.strip(\"\\n\").split(\" \")  # split on space character\n",
    "        rows.append(values)\n",
    "        \n",
    "print(rows)\n",
    "        \n",
    "with open(\"data2.csv\", \"w\") as f:\n",
    "    for row in rows:\n",
    "        for i, element in enumerate(row):\n",
    "            f.write(f\"{element}\")\n",
    "            \n",
    "            if i != len(row)-1:\n",
    "                f.write(\",\")\n",
    "            else:\n",
    "                f.write(\"\\n\")"
   ]
  },
  {
   "cell_type": "markdown",
   "metadata": {},
   "source": [
    "4\\. load the binary file named *credit_card.dat* and convert the data into the real credit-card number.\n",
    "Each line correspond to a credit card number.\n",
    "Each character is composed by 6 bit (even the space) and the last 4 bit are just a padding\n",
    "\n",
    "**hint**: use the `chr()` function to convert a number to a char"
   ]
  },
  {
   "cell_type": "markdown",
   "metadata": {},
   "source": [
    "5\\. Load the file \"user_data.json\", filter the data by the \"CreditCardType\" field equals to \"American Express\". Than save the data a to CSV."
   ]
  },
  {
   "cell_type": "markdown",
   "metadata": {},
   "source": [
    "6\\. Load the file from this url: [https://www.dropbox.com/s/7u3lm737ogbqsg8/mushrooms_categorized.csv?dl=1](https://www.dropbox.com/s/7u3lm737ogbqsg8/mushrooms_categorized.csv?dl=1) with Pandas. \n",
    "+ Explore the data (see the info of the data)\n",
    "+ Draw the istogram of the 'class' field. Decribe wath yuou see\n"
   ]
  },
  {
   "cell_type": "markdown",
   "metadata": {},
   "source": [
    "7\\. Load the remote file [https://www.dropbox.com/s/vkl89yce7xjdq4n/regression_generated.csv?dl=1](https://www.dropbox.com/s/vkl89yce7xjdq4n/regression_generated.csv?dl=1) with Pandas and plot a scatter plot all possible combination of the following fields:\n",
    "    \n",
    "  + features_1\n",
    "  + features_2\n",
    "  + features_3"
   ]
  },
  {
   "cell_type": "markdown",
   "metadata": {},
   "source": [
    "8\\. Load the same file of point 6, and convert the file to json with Pandas."
   ]
  }
 ],
 "metadata": {
  "kernelspec": {
   "display_name": "Python 3",
   "language": "python",
   "name": "python3"
  },
  "language_info": {
   "codemirror_mode": {
    "name": "ipython",
    "version": 3
   },
   "file_extension": ".py",
   "mimetype": "text/x-python",
   "name": "python",
   "nbconvert_exporter": "python",
   "pygments_lexer": "ipython3",
   "version": "3.8.8"
  }
 },
 "nbformat": 4,
 "nbformat_minor": 2
}
